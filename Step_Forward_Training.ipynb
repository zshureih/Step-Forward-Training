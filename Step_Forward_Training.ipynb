{
  "nbformat": 4,
  "nbformat_minor": 0,
  "metadata": {
    "colab": {
      "name": "Step Forward Training.ipynb",
      "provenance": [],
      "collapsed_sections": [
        "MU-ncuGcLIAS",
        "o2v2U31XMvRA",
        "-aurSiafZ3ux",
        "V5fHXaZ3hYpV",
        "31R3JqYFJCuo",
        "U8nA2k-sI_Nd"
      ],
      "authorship_tag": "ABX9TyOnMrngDTnPNH0U3yuVkU5s",
      "include_colab_link": true
    },
    "kernelspec": {
      "name": "python3",
      "display_name": "Python 3"
    }
  },
  "cells": [
    {
      "cell_type": "markdown",
      "metadata": {
        "id": "view-in-github",
        "colab_type": "text"
      },
      "source": [
        "<a href=\"https://colab.research.google.com/github/zshureih/Step-Forward-Training/blob/main/Step_Forward_Training.ipynb\" target=\"_parent\"><img src=\"https://colab.research.google.com/assets/colab-badge.svg\" alt=\"Open In Colab\"/></a>"
      ]
    },
    {
      "cell_type": "markdown",
      "metadata": {
        "id": "MU-ncuGcLIAS"
      },
      "source": [
        "# Importing requirements"
      ]
    },
    {
      "cell_type": "code",
      "metadata": {
        "id": "deFdra2cLFK-",
        "outputId": "c2d0a6f3-0980-4add-b3df-f651fa3b9a32",
        "colab": {
          "base_uri": "https://localhost:8080/"
        }
      },
      "source": [
        "!pip install phyre matplotlib tqdm ipywidgets\n",
        "!pip install -U -q Pillow moviepy proglog"
      ],
      "execution_count": null,
      "outputs": [
        {
          "output_type": "stream",
          "text": [
            "Requirement already satisfied: phyre in /usr/local/lib/python3.6/dist-packages (0.2.1)\n",
            "Requirement already satisfied: matplotlib in /usr/local/lib/python3.6/dist-packages (3.2.2)\n",
            "Requirement already satisfied: tqdm in /usr/local/lib/python3.6/dist-packages (4.41.1)\n",
            "Requirement already satisfied: ipywidgets in /usr/local/lib/python3.6/dist-packages (7.5.1)\n",
            "Requirement already satisfied: imageio in /usr/local/lib/python3.6/dist-packages (from phyre) (2.9.0)\n",
            "Requirement already satisfied: numpy in /usr/local/lib/python3.6/dist-packages (from phyre) (1.18.5)\n",
            "Requirement already satisfied: scipy in /usr/local/lib/python3.6/dist-packages (from phyre) (1.4.1)\n",
            "Requirement already satisfied: joblib in /usr/local/lib/python3.6/dist-packages (from phyre) (0.16.0)\n",
            "Requirement already satisfied: nose in /usr/local/lib/python3.6/dist-packages (from phyre) (1.3.7)\n",
            "Requirement already satisfied: tornado in /usr/local/lib/python3.6/dist-packages (from phyre) (5.1.1)\n",
            "Requirement already satisfied: thrift in /usr/local/lib/python3.6/dist-packages (from phyre) (0.13.0)\n",
            "Requirement already satisfied: pyparsing!=2.0.4,!=2.1.2,!=2.1.6,>=2.0.1 in /usr/local/lib/python3.6/dist-packages (from matplotlib) (2.4.7)\n",
            "Requirement already satisfied: kiwisolver>=1.0.1 in /usr/local/lib/python3.6/dist-packages (from matplotlib) (1.2.0)\n",
            "Requirement already satisfied: python-dateutil>=2.1 in /usr/local/lib/python3.6/dist-packages (from matplotlib) (2.8.1)\n",
            "Requirement already satisfied: cycler>=0.10 in /usr/local/lib/python3.6/dist-packages (from matplotlib) (0.10.0)\n",
            "Requirement already satisfied: nbformat>=4.2.0 in /usr/local/lib/python3.6/dist-packages (from ipywidgets) (5.0.7)\n",
            "Requirement already satisfied: ipython>=4.0.0; python_version >= \"3.3\" in /usr/local/lib/python3.6/dist-packages (from ipywidgets) (5.5.0)\n",
            "Requirement already satisfied: traitlets>=4.3.1 in /usr/local/lib/python3.6/dist-packages (from ipywidgets) (4.3.3)\n",
            "Requirement already satisfied: widgetsnbextension~=3.5.0 in /usr/local/lib/python3.6/dist-packages (from ipywidgets) (3.5.1)\n",
            "Requirement already satisfied: ipykernel>=4.5.1 in /usr/local/lib/python3.6/dist-packages (from ipywidgets) (4.10.1)\n",
            "Requirement already satisfied: pillow in /usr/local/lib/python3.6/dist-packages (from imageio->phyre) (7.2.0)\n",
            "Requirement already satisfied: six>=1.7.2 in /usr/local/lib/python3.6/dist-packages (from thrift->phyre) (1.15.0)\n",
            "Requirement already satisfied: jsonschema!=2.5.0,>=2.4 in /usr/local/lib/python3.6/dist-packages (from nbformat>=4.2.0->ipywidgets) (2.6.0)\n",
            "Requirement already satisfied: ipython-genutils in /usr/local/lib/python3.6/dist-packages (from nbformat>=4.2.0->ipywidgets) (0.2.0)\n",
            "Requirement already satisfied: jupyter-core in /usr/local/lib/python3.6/dist-packages (from nbformat>=4.2.0->ipywidgets) (4.6.3)\n",
            "Requirement already satisfied: prompt-toolkit<2.0.0,>=1.0.4 in /usr/local/lib/python3.6/dist-packages (from ipython>=4.0.0; python_version >= \"3.3\"->ipywidgets) (1.0.18)\n",
            "Requirement already satisfied: decorator in /usr/local/lib/python3.6/dist-packages (from ipython>=4.0.0; python_version >= \"3.3\"->ipywidgets) (4.4.2)\n",
            "Requirement already satisfied: setuptools>=18.5 in /usr/local/lib/python3.6/dist-packages (from ipython>=4.0.0; python_version >= \"3.3\"->ipywidgets) (50.3.0)\n",
            "Requirement already satisfied: simplegeneric>0.8 in /usr/local/lib/python3.6/dist-packages (from ipython>=4.0.0; python_version >= \"3.3\"->ipywidgets) (0.8.1)\n",
            "Requirement already satisfied: pygments in /usr/local/lib/python3.6/dist-packages (from ipython>=4.0.0; python_version >= \"3.3\"->ipywidgets) (2.6.1)\n",
            "Requirement already satisfied: pexpect; sys_platform != \"win32\" in /usr/local/lib/python3.6/dist-packages (from ipython>=4.0.0; python_version >= \"3.3\"->ipywidgets) (4.8.0)\n",
            "Requirement already satisfied: pickleshare in /usr/local/lib/python3.6/dist-packages (from ipython>=4.0.0; python_version >= \"3.3\"->ipywidgets) (0.7.5)\n",
            "Requirement already satisfied: notebook>=4.4.1 in /usr/local/lib/python3.6/dist-packages (from widgetsnbextension~=3.5.0->ipywidgets) (5.3.1)\n",
            "Requirement already satisfied: jupyter-client in /usr/local/lib/python3.6/dist-packages (from ipykernel>=4.5.1->ipywidgets) (5.3.5)\n",
            "Requirement already satisfied: wcwidth in /usr/local/lib/python3.6/dist-packages (from prompt-toolkit<2.0.0,>=1.0.4->ipython>=4.0.0; python_version >= \"3.3\"->ipywidgets) (0.2.5)\n",
            "Requirement already satisfied: ptyprocess>=0.5 in /usr/local/lib/python3.6/dist-packages (from pexpect; sys_platform != \"win32\"->ipython>=4.0.0; python_version >= \"3.3\"->ipywidgets) (0.6.0)\n",
            "Requirement already satisfied: nbconvert in /usr/local/lib/python3.6/dist-packages (from notebook>=4.4.1->widgetsnbextension~=3.5.0->ipywidgets) (5.6.1)\n",
            "Requirement already satisfied: Send2Trash in /usr/local/lib/python3.6/dist-packages (from notebook>=4.4.1->widgetsnbextension~=3.5.0->ipywidgets) (1.5.0)\n",
            "Requirement already satisfied: terminado>=0.8.1 in /usr/local/lib/python3.6/dist-packages (from notebook>=4.4.1->widgetsnbextension~=3.5.0->ipywidgets) (0.9.1)\n",
            "Requirement already satisfied: jinja2 in /usr/local/lib/python3.6/dist-packages (from notebook>=4.4.1->widgetsnbextension~=3.5.0->ipywidgets) (2.11.2)\n",
            "Requirement already satisfied: pyzmq>=13 in /usr/local/lib/python3.6/dist-packages (from jupyter-client->ipykernel>=4.5.1->ipywidgets) (19.0.2)\n",
            "Requirement already satisfied: testpath in /usr/local/lib/python3.6/dist-packages (from nbconvert->notebook>=4.4.1->widgetsnbextension~=3.5.0->ipywidgets) (0.4.4)\n",
            "Requirement already satisfied: entrypoints>=0.2.2 in /usr/local/lib/python3.6/dist-packages (from nbconvert->notebook>=4.4.1->widgetsnbextension~=3.5.0->ipywidgets) (0.3)\n",
            "Requirement already satisfied: mistune<2,>=0.8.1 in /usr/local/lib/python3.6/dist-packages (from nbconvert->notebook>=4.4.1->widgetsnbextension~=3.5.0->ipywidgets) (0.8.4)\n",
            "Requirement already satisfied: bleach in /usr/local/lib/python3.6/dist-packages (from nbconvert->notebook>=4.4.1->widgetsnbextension~=3.5.0->ipywidgets) (3.2.1)\n",
            "Requirement already satisfied: pandocfilters>=1.4.1 in /usr/local/lib/python3.6/dist-packages (from nbconvert->notebook>=4.4.1->widgetsnbextension~=3.5.0->ipywidgets) (1.4.2)\n",
            "Requirement already satisfied: defusedxml in /usr/local/lib/python3.6/dist-packages (from nbconvert->notebook>=4.4.1->widgetsnbextension~=3.5.0->ipywidgets) (0.6.0)\n",
            "Requirement already satisfied: MarkupSafe>=0.23 in /usr/local/lib/python3.6/dist-packages (from jinja2->notebook>=4.4.1->widgetsnbextension~=3.5.0->ipywidgets) (1.1.1)\n",
            "Requirement already satisfied: webencodings in /usr/local/lib/python3.6/dist-packages (from bleach->nbconvert->notebook>=4.4.1->widgetsnbextension~=3.5.0->ipywidgets) (0.5.1)\n",
            "Requirement already satisfied: packaging in /usr/local/lib/python3.6/dist-packages (from bleach->nbconvert->notebook>=4.4.1->widgetsnbextension~=3.5.0->ipywidgets) (20.4)\n"
          ],
          "name": "stdout"
        }
      ]
    },
    {
      "cell_type": "code",
      "metadata": {
        "id": "ZCBSKhbYLO2a"
      },
      "source": [
        "import phyre\n",
        "import numpy as np\n",
        "\n",
        "import os.path\n",
        "import matplotlib.pyplot as plt\n",
        "from moviepy.editor import ImageSequenceClip\n",
        "from PIL import Image\n",
        "\n",
        "import matplotlib.pyplot as plt"
      ],
      "execution_count": null,
      "outputs": []
    },
    {
      "cell_type": "markdown",
      "metadata": {
        "id": "EWcWvLLsLeL1"
      },
      "source": [
        "# Function to Build a Dataset"
      ]
    },
    {
      "cell_type": "code",
      "metadata": {
        "id": "_pTHydiNLf_F"
      },
      "source": [
        "import os.path\n",
        "import phyre\n",
        "import numpy as np\n",
        "\n",
        "def convert_to_rgb(object_vec):\n",
        "    rasters = [phyre.featurized_objects_vector_to_raster(o) for o in object_vec]\n",
        "    rgb_images = [255*phyre.observations_to_float_rgb(r) for r in rasters]\n",
        "    return rgb_images\n",
        "\n",
        "def get_fold(eval_setup, fold_id):\n",
        "    train_tasks, val_tasks, test_tasks = phyre.get_fold(eval_setup, fold_id)\n",
        "    return train_tasks, val_tasks, test_tasks\n",
        "\n",
        "def make_simulator(tasks, action_tier='ball'):\n",
        "    # task = phyre.loader.load_task_script(task_path)\n",
        "    # template_id, _, module = task\n",
        "    # task_dict = {task.taskId: task for task in module.build_task(template_id)}\n",
        "    # simulator = phyre.action_simulator.ActionSimulator(task_dict, action_tier)\n",
        "    simulator = phyre.initialize_simulator(tasks, action_tier)\n",
        "    return simulator\n",
        "\n",
        "def get_default_actions():\n",
        "  default_actions = np.stack([np.random.rand(100)*.6 + 0.2, # ball x\n",
        "                              np.random.rand(100)*.3 + 0.5, # ball y\n",
        "                              np.random.rand(100)*.2 + 0.6]).T # ball r\n",
        "  return default_actions\n",
        "\n",
        "def sample_trajectories(simulator, stop_sim_at=20, max_actions=1000, actions=None, use_tqdm=False):\n",
        "  actions = simulator.build_discrete_action_space(max_actions) if actions is None else actions\n",
        "\n",
        "  if use_tqdm:\n",
        "    from tqdm import tqdm_notebook\n",
        "    fn = lambda rng: tqdm_notebook(rng, desc='Simulate tasks')\n",
        "  else:\n",
        "    fn = lambda rng: rng\n",
        "\n",
        "  feature_trajs, pixel_trajs = [], []\n",
        "  for task_index in fn(range(len(simulator.task_ids))):\n",
        "    x = np.random.randint(0,len(actions))\n",
        "    action = actions[x] # choose a random action\n",
        "    \n",
        "    simulation = simulator.simulate_action(task_index, action=action,\n",
        "                                          need_images=True, stride=15,\n",
        "                                          need_featurized_objects=True)\n",
        "    \n",
        "    # if simulation input is invalid, keep grabbing actions until it isn't\n",
        "    while simulation.status is phyre.SimulationStatus.INVALID_INPUT:\n",
        "      x = np.random.randint(0,len(actions))\n",
        "      action = actions[x] # choose a random action\n",
        "      \n",
        "      simulation = simulator.simulate_action(task_index, action=action,\n",
        "                                          need_images=True, stride=15,\n",
        "                                          need_featurized_objects=True)\n",
        "    \n",
        "    # if we have a valid simulation\n",
        "    if simulation.status is not phyre.SimulationStatus.INVALID_INPUT:\n",
        "      # get features and simulation images\n",
        "      t = simulation.featurized_objects.features[:stop_sim_at]\n",
        "      # print(t.shape)\n",
        "      imgs = simulation.images[:stop_sim_at]\n",
        "      rgb_images = [255*phyre.observations_to_float_rgb(img) for img in imgs]\n",
        "\n",
        "      # we are just looking for movement, not whether the action succeeds\n",
        "      # if t.shape[0] == 40: \n",
        "      feature_trajs.append(t)\n",
        "      pixel_trajs.append(rgb_images)\n",
        "  \n",
        "  return feature_trajs, pixel_trajs\n",
        "\n",
        "def get_dataset(simulator, seed=0, test_split=0.8, **kwargs):\n",
        "  # data = {'meta': locals()}\n",
        "\n",
        "  # collect some trajectories via Phyre\n",
        "  np.random.seed(seed)\n",
        "  trajectories, pixels = sample_trajectories(simulator, **kwargs)\n",
        "  # permute the order of the tasks\n",
        "  # ixperm = np.random.permutation(trajectories.shape[0])\n",
        "  # trajectories = trajectories[ixperm] # shuffle the trajectories\n",
        "  # pixels = pixels[ixperm]\n",
        "  \n",
        "  return trajectories, pixels"
      ],
      "execution_count": null,
      "outputs": []
    },
    {
      "cell_type": "markdown",
      "metadata": {
        "id": "o2v2U31XMvRA"
      },
      "source": [
        "# Utility Functions"
      ]
    },
    {
      "cell_type": "code",
      "metadata": {
        "id": "_QxpMCwUMxIL"
      },
      "source": [
        "def _update_inputs(features, inputs):\n",
        "    inputs = np.concatenate([features[...,:2], features[...,3:4]], axis=-1)\n",
        "    inputs = inputs.reshape(*inputs.shape[:2], -1)\n",
        "    return features, inputs\n",
        "\n",
        "def _update_features(features, inputs):\n",
        "    # z = np.zeros([*y.shape[:2],3,14])\n",
        "    v = inputs.reshape([*inputs.shape[:2],3,3])\n",
        "    features[...,:2] = v[...,:2]\n",
        "    features[...,3:4] = v[...,2:3]\n",
        "    return features, inputs\n",
        "\n",
        "def _update(update_fn, data):\n",
        "    if type(data) is dict:\n",
        "        result = {}\n",
        "        var_names = ['x', 'y', 'dx']\n",
        "        var_names += ['test_' + k for k in var_names]\n",
        "        for k in var_names: # var\n",
        "            feat_k, input_k = update_fn(data['feat_' + k], data[k])\n",
        "            result[k] = input_k\n",
        "            result['feat_' + k] = feat_k\n",
        "    else:\n",
        "        result = update_fn(*data)\n",
        "    return result\n",
        "\n",
        "update_inputs = lambda data: _update(_update_inputs, data)\n",
        "update_features = lambda data: _update(_update_features, data)"
      ],
      "execution_count": null,
      "outputs": []
    },
    {
      "cell_type": "markdown",
      "metadata": {
        "id": "KlhFgqbgNJds"
      },
      "source": [
        "# Make a dataset"
      ]
    },
    {
      "cell_type": "code",
      "metadata": {
        "id": "lFF6sFMZZndW",
        "outputId": "e350b58c-e067-403e-b372-7fc2409ca9fa",
        "colab": {
          "base_uri": "https://localhost:8080/",
          "height": 103
        }
      },
      "source": [
        "# task_path = './custom_tasks/task_z_0.py'\n",
        "# write_custom_task(task_path)\n",
        "train_tasks, val_tasks, test_tasks = get_fold('ball_cross_template', 0)\n",
        "print(\"# of Train Tasks: {}\\n# of Val Tasks: {}\\n# of Test Tasks: {}\".format(len(train_tasks), len(val_tasks), len(test_tasks)))\n",
        "\n",
        "# shuffle training tasks\n",
        "indices = np.random.permutation(len(train_tasks))\n",
        "train_tasks = np.array(train_tasks)[indices]\n",
        "\n",
        "# make a simulator\n",
        "simulator = make_simulator(train_tasks[:50])\n",
        "\n",
        "features, pixels = get_dataset(simulator)\n",
        "print(\"len of features stack\",len(features))\n",
        "print(\"len of pixels stack\", len(pixels))\n"
      ],
      "execution_count": null,
      "outputs": [
        {
          "output_type": "stream",
          "text": [
            "# of Train Tasks: 1600\n",
            "# of Val Tasks: 400\n",
            "# of Test Tasks: 500\n",
            "len of features stack 50\n",
            "len of pixels stack 50\n"
          ],
          "name": "stdout"
        }
      ]
    },
    {
      "cell_type": "markdown",
      "metadata": {
        "id": "rWgJmgxQeC57"
      },
      "source": [
        "# Exploring a Feature"
      ]
    },
    {
      "cell_type": "markdown",
      "metadata": {
        "id": "Lt1a-BLUt9Kh"
      },
      "source": [
        "phyre.FeaturizedObjects = TxNx14 np.array where T is the number of timesteps, N is the number of objects in the scene and 14 is the feature vector size. The features are by index:"
      ]
    },
    {
      "cell_type": "code",
      "metadata": {
        "id": "4SIYKpsNaZfs",
        "outputId": "41935005-4fe1-4392-8853-b9428e9ffb95",
        "colab": {
          "base_uri": "https://localhost:8080/",
          "height": 86
        }
      },
      "source": [
        "print(\"Features Shape:\", features[0].shape) #featurized object vector\n",
        "obj_vec = features[0]\n",
        "print(\"Timesteps: \", obj_vec.shape[0])\n",
        "print(\"Objects: \", obj_vec.shape[1])\n",
        "print(\"Object Feature Count: \", obj_vec.shape[2])"
      ],
      "execution_count": null,
      "outputs": [
        {
          "output_type": "stream",
          "text": [
            "Features Shape: (20, 7, 14)\n",
            "Timesteps:  20\n",
            "Objects:  7\n",
            "Object Feature Count:  14\n"
          ],
          "name": "stdout"
        }
      ]
    },
    {
      "cell_type": "markdown",
      "metadata": {
        "id": "-aurSiafZ3ux"
      },
      "source": [
        "# Render Replay"
      ]
    },
    {
      "cell_type": "code",
      "metadata": {
        "id": "jjUu7JKEZ5w6",
        "outputId": "af91aab4-5666-4e41-8b26-0148e4af27ca",
        "colab": {
          "base_uri": "https://localhost:8080/"
        }
      },
      "source": [
        "idx = np.random.randint(len(features))\n",
        "rgb_images = convert_to_rgb(features[idx])\n",
        "ImageSequenceClip(rgb_images, fps=20).ipython_display()"
      ],
      "execution_count": null,
      "outputs": [
        {
          "output_type": "stream",
          "text": [
            "\rt:   0%|          | 0/21 [00:00<?, ?it/s, now=None]"
          ],
          "name": "stderr"
        },
        {
          "output_type": "stream",
          "text": [
            "Moviepy - Building video __temp__.mp4.\n",
            "Moviepy - Writing video __temp__.mp4\n",
            "\n"
          ],
          "name": "stdout"
        },
        {
          "output_type": "stream",
          "text": [
            ""
          ],
          "name": "stderr"
        },
        {
          "output_type": "stream",
          "text": [
            "Moviepy - Done !\n",
            "Moviepy - video ready __temp__.mp4\n"
          ],
          "name": "stdout"
        },
        {
          "output_type": "execute_result",
          "data": {
            "text/html": [
              "<div align=middle><video src='data:video/mp4;base64,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' controls>Sorry, seems like your browser doesn't support HTML5 audio/video</video></div>"
            ],
            "text/plain": [
              "<moviepy.video.io.html_tools.HTML2 object>"
            ]
          },
          "metadata": {
            "tags": []
          },
          "execution_count": 71
        }
      ]
    },
    {
      "cell_type": "code",
      "metadata": {
        "id": "jCnmFM3KcnxG",
        "outputId": "a9082413-462a-427e-cfb7-ff86d8043b9e",
        "colab": {
          "base_uri": "https://localhost:8080/"
        }
      },
      "source": [
        "idx = np.random.randint(len(pixels))\n",
        "images = [p for p in pixels[idx]]\n",
        "ImageSequenceClip(images, fps=20).ipython_display()"
      ],
      "execution_count": null,
      "outputs": [
        {
          "output_type": "stream",
          "text": [
            "                                                   "
          ],
          "name": "stderr"
        },
        {
          "output_type": "stream",
          "text": [
            "Moviepy - Building video __temp__.mp4.\n",
            "Moviepy - Writing video __temp__.mp4\n",
            "\n",
            "Moviepy - Done !\n",
            "Moviepy - video ready __temp__.mp4\n"
          ],
          "name": "stdout"
        },
        {
          "output_type": "stream",
          "text": [
            "\r"
          ],
          "name": "stderr"
        },
        {
          "output_type": "execute_result",
          "data": {
            "text/html": [
              "<div align=middle><video src='data:video/mp4;base64,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' controls>Sorry, seems like your browser doesn't support HTML5 audio/video</video></div>"
            ],
            "text/plain": [
              "<moviepy.video.io.html_tools.HTML2 object>"
            ]
          },
          "metadata": {
            "tags": []
          },
          "execution_count": 72
        }
      ]
    },
    {
      "cell_type": "markdown",
      "metadata": {
        "id": "V5fHXaZ3hYpV"
      },
      "source": [
        "# Pixel Based Models\n",
        "Extract world state with an image encoder\n",
        "\n",
        "Encoder e is a ResNet-18 network clipped at res4 block\n",
        "\n",
        "7 channels with binary values that indicate object presence\n",
        "\n",
        "Representations from the past t frames are concatenated before being input into the dynamics model"
      ]
    },
    {
      "cell_type": "code",
      "metadata": {
        "id": "hA3iOFWHhfgv"
      },
      "source": [
        "import torch"
      ],
      "execution_count": null,
      "outputs": []
    },
    {
      "cell_type": "markdown",
      "metadata": {
        "id": "n_lpG4kihcEj"
      },
      "source": [
        "# Object Based Models\n",
        "\n",
        "Interaction Network - ([INT](https://github.com/higgsfield/interaction_network_pytorch/blob/master/Interaction%20Network.ipynb))\n",
        "\n",
        "*   Maintain a vector representation for each object in the system at time *t*\n",
        "*   Vector contains information about object type, position and velocity\n",
        "*   Relationship is computed for each ordered pair of objects\n",
        "    * First object is sender\n",
        "    * Second object is receiver of the relation\n",
        "*   Model embeds the relations into \"effects\" per object using MLP (multi-layer preceptron)\n",
        "*   Effects are subbed into a single effect per object, concatenated with object's previous state vector along with a placeholder for external effects (e.g. gravity)\n",
        "*   Result is passed through another MLP to predict velocity of the object\n",
        "  \n",
        "\n"
      ]
    },
    {
      "cell_type": "code",
      "metadata": {
        "id": "KuNKJLFnuHuO"
      },
      "source": [
        "import os, random, time\n",
        "random.seed(time.clock())\n",
        "\n",
        "import numpy as np\n",
        "np.random.seed(int(time.clock()))\n",
        "\n",
        "import torch\n",
        "import torch.nn as nn\n",
        "import torch.optim as optim\n",
        "import torch.nn.functional as F\n",
        "from torch.autograd import Variable\n",
        "from torch.utils.data import Dataset, DataLoader\n",
        "\n",
        "from IPython.display import clear_output\n",
        "\n",
        "USE_CUDA = False"
      ],
      "execution_count": null,
      "outputs": []
    },
    {
      "cell_type": "code",
      "metadata": {
        "id": "BdrYSB_Iq_et"
      },
      "source": [
        "def get_batch(data, batch_size):\n",
        "    rand_idx  = [random.randint(0, len(data) - 2) for _ in range(batch_size)]\n",
        "    label_idx = [idx + 1 for idx in rand_idx]\n",
        "    print(rand_idx)\n",
        "    batch_data = data[rand_idx]\n",
        "    label_data = data[label_idx]\n",
        "    # print(label_data.shape)\n",
        "    # print(batch_data.shape)\n",
        "    objects = batch_data[:,:]\n",
        "    \n",
        "    \n",
        "    #receiver_relations, sender_relations - onehot encoding matrices\n",
        "    #each column indicates the receiver and sender object’s index\n",
        "    n_objects = objects.shape[1]\n",
        "    n_relations = n_objects * (n_objects-1)\n",
        "    relation_dim = 1\n",
        "    \n",
        "    receiver_relations = np.zeros((batch_size, n_objects, n_relations), dtype=float);\n",
        "    sender_relations   = np.zeros((batch_size, n_objects, n_relations), dtype=float);\n",
        "    \n",
        "    cnt = 0\n",
        "    for i in range(n_objects):\n",
        "        for j in range(n_objects):\n",
        "            if(i != j):\n",
        "                receiver_relations[:, i, cnt] = 1.0\n",
        "                sender_relations[:, j, cnt]   = 1.0\n",
        "                cnt += 1\n",
        "    \n",
        "    # This could be the spot to hard-code color based rules\n",
        "    # just fill with zeros\n",
        "    relation_info = np.zeros((batch_size, n_relations, relation_dim))\n",
        "    target = label_data[:,:,:2] #label data is x,y and theta position, so we predict the new position\n",
        "    \n",
        "    objects            = Variable(torch.FloatTensor(objects))\n",
        "    sender_relations   = Variable(torch.FloatTensor(sender_relations))\n",
        "    receiver_relations = Variable(torch.FloatTensor(receiver_relations))\n",
        "    relation_info      = Variable(torch.FloatTensor(relation_info))\n",
        "    target             = Variable(torch.FloatTensor(target)).reshape(-1, 2)\n",
        "                       \n",
        "    if USE_CUDA:\n",
        "        objects            = objects.cuda()\n",
        "        sender_relations   = sender_relations.cuda()\n",
        "        receiver_relations = receiver_relations.cuda()\n",
        "        relation_info      = relation_info.cuda()\n",
        "        target             = target.cuda()\n",
        "    \n",
        "    return objects, sender_relations, receiver_relations, relation_info, target"
      ],
      "execution_count": null,
      "outputs": []
    },
    {
      "cell_type": "code",
      "metadata": {
        "id": "u862bgq7rQLT"
      },
      "source": [
        "class RelationalModel(nn.Module):\n",
        "    def __init__(self, input_size, output_size, hidden_size):\n",
        "        super(RelationalModel, self).__init__()\n",
        "        \n",
        "        self.output_size = output_size\n",
        "        \n",
        "        self.layers = nn.Sequential(\n",
        "            nn.Linear(input_size, hidden_size),\n",
        "            nn.ReLU(),\n",
        "            nn.Linear(hidden_size, hidden_size),\n",
        "            nn.ReLU(),\n",
        "            nn.Linear(hidden_size, hidden_size),\n",
        "            nn.ReLU(),\n",
        "            nn.Linear(hidden_size, output_size),\n",
        "            nn.ReLU()\n",
        "        )\n",
        "    \n",
        "    def forward(self, x):\n",
        "        '''\n",
        "        Args:\n",
        "            x: [batch_size, n_relations, input_size]\n",
        "        Returns:\n",
        "            [batch_size, n_relations, output_size]\n",
        "        '''\n",
        "        batch_size, n_relations, input_size = x.size()\n",
        "        x = x.view(-1, input_size)\n",
        "        x = self.layers(x)\n",
        "        x = x.view(batch_size, n_relations, self.output_size)\n",
        "        return x"
      ],
      "execution_count": null,
      "outputs": []
    },
    {
      "cell_type": "code",
      "metadata": {
        "id": "uLjIUZqnrRjI"
      },
      "source": [
        "class ObjectModel(nn.Module):\n",
        "    def __init__(self, input_size, hidden_size):\n",
        "        super(ObjectModel, self).__init__()\n",
        "        \n",
        "        self.layers = nn.Sequential(\n",
        "            nn.Linear(input_size, hidden_size),\n",
        "            nn.ReLU(),\n",
        "            nn.Linear(hidden_size, 2), # x, y\n",
        "        )\n",
        "        \n",
        "    def forward(self, x):\n",
        "        '''\n",
        "        Args:\n",
        "            x: [batch_size, n_objects, input_size]\n",
        "        Returns:\n",
        "            [batch_size * n_objects, 2] x and y\n",
        "        '''\n",
        "        input_size = x.size(2)\n",
        "        x = x.view(-1, input_size)\n",
        "        return self.layers(x)"
      ],
      "execution_count": null,
      "outputs": []
    },
    {
      "cell_type": "code",
      "metadata": {
        "id": "EehL8rovraKh"
      },
      "source": [
        "class InteractionNetwork(nn.Module):\n",
        "    def __init__(self, object_dim, relation_dim, effect_dim):\n",
        "        super(InteractionNetwork, self).__init__()\n",
        "        \n",
        "        self.relational_model = RelationalModel(2*object_dim + relation_dim, effect_dim, 150)\n",
        "        self.object_model     = ObjectModel(object_dim + effect_dim, 100)\n",
        "    \n",
        "    def forward(self, objects, sender_relations, receiver_relations, relation_info):\n",
        "        senders   = sender_relations.permute(0, 2, 1).bmm(objects)\n",
        "        receivers = receiver_relations.permute(0, 2, 1).bmm(objects)\n",
        "        effects = self.relational_model(torch.cat([senders, receivers, relation_info], 2))\n",
        "        effect_receivers = receiver_relations.bmm(effects)\n",
        "        predicted = self.object_model(torch.cat([objects, effect_receivers], 2))\n",
        "        return predicted"
      ],
      "execution_count": null,
      "outputs": []
    },
    {
      "cell_type": "code",
      "metadata": {
        "id": "GO-clXpTtkN2"
      },
      "source": [
        "object_dim = obj_vec.shape[2]\n",
        "relation_dim = 1\n",
        "\n",
        "interaction_network = InteractionNetwork(object_dim, relation_dim, 100)\n",
        "\n",
        "if USE_CUDA:\n",
        "    interaction_network = interaction_network.cuda()\n",
        "    \n",
        "optimizer = optim.Adam(interaction_network.parameters())\n",
        "criterion = nn.MSELoss()\n"
      ],
      "execution_count": null,
      "outputs": []
    },
    {
      "cell_type": "code",
      "metadata": {
        "id": "xSSx2hFaxZ05"
      },
      "source": [
        "# objects, sender_relations, receiver_relations, relation_info, target = get_batch(features[0], 1)\n",
        "\n",
        "# print(\"#objects shape\", objects.shape)\n",
        "# print(\"#target shape\", target.shape)\n",
        "# print(\"#object positions\", objects[0,:,:2])\n",
        "# print(\"#target\", target)\n",
        "# predicted = interaction_network(objects, sender_relations, receiver_relations, relation_info)\n",
        "# print(\"#predicted shape\", target.shape)\n",
        "# print(\"#predicted\", predicted)\n",
        "\n",
        "# rgb_images = convert_to_rgb(features[0])\n",
        "# ImageSequenceClip(rgb_images, fps=20).ipython_display()"
      ],
      "execution_count": null,
      "outputs": []
    },
    {
      "cell_type": "markdown",
      "metadata": {
        "id": "31R3JqYFJCuo"
      },
      "source": [
        "# Training"
      ]
    },
    {
      "cell_type": "code",
      "metadata": {
        "id": "41j4xRdStyX8"
      },
      "source": [
        "# losses = []\n",
        "\n",
        "# for i in range(1, 101): #epochs\n",
        "#     # grab 16 tasks at a time\n",
        "#     x = (i-1)*16\n",
        "#     y = i*16\n",
        "\n",
        "#     # make a simulator\n",
        "#     simulator = make_simulator(train_tasks[x:y])\n",
        "#     features, pixels = get_dataset(simulator)\n",
        "\n",
        "#     val_loss = 0\n",
        "#     for j in range(len(features)): # for action/replay\n",
        "#       objects, sender_relations, receiver_relations, relation_info, target = get_batch(features[j], 30)\n",
        "#       # print(\"#objects shape\", objects.shape)\n",
        "#       # print(\"#sender_relations shape\", sender_relations.shape)\n",
        "#       # print(\"#receiver_relations shape\", receiver_relations.shape)\n",
        "#       # print(\"#relation_info shape\", relation_info.shape)\n",
        "#       # print(\"#target shape\", target.shape)\n",
        "#       predicted = interaction_network(objects, sender_relations, receiver_relations, relation_info)\n",
        "#       # print(predicted[0])\n",
        "#       # print(predicted.shape)\n",
        "#       loss = criterion(predicted, target)\n",
        "#       optimizer.zero_grad()\n",
        "#       loss.backward()\n",
        "#       optimizer.step()\n",
        "#       losses.append(np.sqrt(loss.item()))\n",
        "\n",
        "#     clear_output(True)\n",
        "#     plt.figure(figsize=(20,5))\n",
        "#     plt.subplot(131)\n",
        "#     plt.title('Epoch %s RMS Error %s' % (i, np.sqrt(np.mean(losses[-10:]))))\n",
        "#     plt.plot(losses)\n",
        "#     plt.show()\n"
      ],
      "execution_count": null,
      "outputs": []
    },
    {
      "cell_type": "markdown",
      "metadata": {
        "id": "W8NWxeRpf-TD"
      },
      "source": [
        "# \"Hard-coded\" Training"
      ]
    },
    {
      "cell_type": "code",
      "metadata": {
        "id": "I9a338o-f9KH",
        "outputId": "7b676aaa-ac18-44bc-98f3-01366a8858d8",
        "colab": {
          "base_uri": "https://localhost:8080/",
          "height": 336
        }
      },
      "source": [
        "losses = []\n",
        "\n",
        "for i in range(1, 101): #epochs\n",
        "    # grab a random 16 tasks at a time\n",
        "    r = random.randint(1,100)\n",
        "    x = (r-1)*16\n",
        "    y = r*16\n",
        "\n",
        "    # make a simulator\n",
        "    simulator = make_simulator(train_tasks[x:y])\n",
        "    features, pixels = get_dataset(simulator)\n",
        "\n",
        "    val_loss = 0\n",
        "    for j in range(len(features)): # for action/replay\n",
        "      objects, sender_relations, receiver_relations, relation_info, target = get_batch(features[j], 10)\n",
        "      # print(\"#objects shape\", objects.shape)\n",
        "      # print(\"#sender_relations shape\", sender_relations.shape)\n",
        "      # print(\"#receiver_relations shape\", receiver_relations.shape)\n",
        "      # print(\"#relation_info shape\", relation_info.shape)\n",
        "      # print(\"#target shape\", target.shape)\n",
        "      predicted = interaction_network(objects, sender_relations, receiver_relations, relation_info)\n",
        "      # print(predicted.shape)\n",
        "\n",
        "      for k in range(len(objects[0])): #for each object in the replay\n",
        "        if objects[0][k][13] == 1 or objects[0][k][11] == 1: # if the object is black or purple i.e. is immovable\n",
        "          predicted[k] = target[k] # set prediction to target value\n",
        "        \n",
        "      loss = criterion(predicted, target)\n",
        "      optimizer.zero_grad()\n",
        "      loss.backward()\n",
        "      optimizer.step()\n",
        "      losses.append(np.sqrt(loss.item()))\n",
        "\n",
        "    clear_output(True)\n",
        "    plt.figure(figsize=(20,5))\n",
        "    plt.subplot(131)\n",
        "    plt.title('Epoch %s MSE Error %s' % (i, np.sqrt(np.mean(losses[-100:]))))\n",
        "    plt.plot(losses)\n",
        "    plt.show()\n"
      ],
      "execution_count": null,
      "outputs": [
        {
          "output_type": "display_data",
          "data": {
            "image/png": "[encoded data removed]",
            "text/plain": [
              "<Figure size 1440x360 with 1 Axes>"
            ]
          },
          "metadata": {
            "tags": [],
            "needs_background": "light"
          }
        }
      ]
    },
    {
      "cell_type": "markdown",
      "metadata": {
        "id": "a-kZMLRMywIO"
      },
      "source": [
        "# Validation"
      ]
    },
    {
      "cell_type": "code",
      "metadata": {
        "id": "G-M6XwYxyxbh"
      },
      "source": [
        "# losses = []\n",
        "\n",
        "# for i in range(1, 101): #epochs\n",
        "#     # grab 4 tasks at a time\n",
        "#     r = random.randint(1,100)\n",
        "#     x = (r-1)*4\n",
        "#     y = r*4\n",
        "#     print(x)\n",
        "#     # make a simulator\n",
        "#     simulator = make_simulator(val_tasks[x:y])\n",
        "#     features, pixels = get_dataset(simulator)\n",
        "\n",
        "#     val_loss = 0\n",
        "#     for j in range(len(features)): #this should be actions\n",
        "#       objects, sender_relations, receiver_relations, relation_info, target = get_batch(features[j], 1)\n",
        "#       # print(\"#objects shape\", objects.shape)\n",
        "#       # print(\"#sender_relations shape\", sender_relations.shape)\n",
        "#       # print(\"#receiver_relations shape\", receiver_relations.shape)\n",
        "#       # print(\"#relation_info shape\", relation_info.shape)\n",
        "#       # print(\"#target shape\", target.shape)\n",
        "#       predicted = interaction_network(objects, sender_relations, receiver_relations, relation_info)\n",
        "\n",
        "#       for k in range(len(objects[0])): #for each object in the replay\n",
        "#         if objects[0][k][13] == 1 or objects[0][k][11] == 1: # if the object is black or purple i.e. is immovable\n",
        "#           predicted[k] = target[k] # set prediction to target value\n",
        "\n",
        "#       # print(predicted[0])\n",
        "#       # print(predicted.shape)\n",
        "#       loss = criterion(predicted, target)\n",
        "#       # optimizer.zero_grad()\n",
        "#       # loss.backward()\n",
        "#       # optimizer.step()\n",
        "#       losses.append(np.sqrt(loss.item()))\n",
        "\n",
        "#     clear_output(True)\n",
        "#     plt.figure(figsize=(20,5))\n",
        "#     plt.subplot(131)\n",
        "#     plt.title('Epoch %s RMS Error %s' % (i, np.sqrt(np.mean(losses[-100:]))))\n",
        "#     plt.plot(losses)\n",
        "#     plt.show()"
      ],
      "execution_count": null,
      "outputs": []
    },
    {
      "cell_type": "markdown",
      "metadata": {
        "id": "Qp8KjyBQcwch"
      },
      "source": [
        "# Visualizing Predictions"
      ]
    },
    {
      "cell_type": "markdown",
      "metadata": {
        "id": "Xzn-glR93hpt"
      },
      "source": [
        "0: x in pixels of center of mass divided by SCENE_WIDTH\n",
        "\n",
        "1: y in pixels of center of mass divided by SCENE_HEIGHT\n",
        "\n",
        "2: angle of the object between 0 and 2pi divided by 2pi\n",
        "\n",
        "3: diameter in pixels of object divided by SCENE_WIDTH\n",
        "\n",
        "4-8: One hot encoding of the object shape, according to order:\n",
        "ball, bar, jar, standing sticks\n",
        "\n",
        "8-14: One hot encoding of object color, according to order:\n",
        "red, green, blue, purple, gray, black"
      ]
    },
    {
      "cell_type": "code",
      "metadata": {
        "id": "ndhtczNjBNFB"
      },
      "source": [
        "import cv2\n",
        "from google.colab.patches import cv2_imshow\n",
        "\n",
        "def draw_line(image, obj, prediction, color):\n",
        "  height = len(image)\n",
        "  width = len(image[0])\n",
        "\n",
        "  obj_x = int(obj[0] * width)\n",
        "  obj_y = height - int(obj[1] * height)\n",
        "\n",
        "  pred_x = int(prediction[0] * width)\n",
        "  pred_y = height - int(prediction[1] * height)\n",
        "\n",
        "  # print(obj_y, obj_x)\n",
        "  # print(image[obj_y][obj_x])\n",
        "  # print(image[pred_y][pred_x])\n",
        "\n",
        "  cv2.circle(image, (obj_x, obj_y), 4, color, thickness=-1, lineType=1, shift=0)\n",
        "  cv2.arrowedLine(image, (obj_x, obj_y), (pred_x, pred_y), color, thickness=2, shift=0)\n",
        "  return image\n",
        "  # cv2.imwrite('color_img.jpg', image)\n",
        "  # cv2.destroyAllWindows()\n",
        "\n",
        "def draw_lines(frames, objects, prediction):\n",
        "  print(len(frames))\n",
        "  image = ''\n",
        "  images = []\n",
        "  for i in range(len(frames)): # for each frame\n",
        "    frame = frames[i] # draw on the frame\n",
        "    for j in range(len(objects[0])): # draw the start/end arrow for each object in the frame\n",
        "      obj = objects[0][j]\n",
        "\n",
        "      # figure out color\n",
        "      color = \"\"\n",
        "      if obj[8]:\n",
        "        # print(\"red\")\n",
        "        color = (12, 176, 185)\n",
        "      if obj[9]:\n",
        "        # print(\"green\")\n",
        "        color = (148, 49, 68)\n",
        "      if obj[10]:\n",
        "        # print(\"blue\")\n",
        "        color = (231, 136, 13)\n",
        "      if obj[11]:\n",
        "        # print(\"purple\")\n",
        "        color = (134, 233, 54)\n",
        "        continue\n",
        "      if obj[12]:\n",
        "        # print(\"gray\")\n",
        "        color = (102, 92, 79)\n",
        "      if obj[13]:\n",
        "        # print(\"black\")\n",
        "        color = (255, 196, 252)\n",
        "        continue\n",
        "\n",
        "      # get object location and prediction x,y\n",
        "      obj_location = obj[:2]\n",
        "      predicted_location = prediction[j][:2]\n",
        "\n",
        "      # draw a line from object center to prediction point\n",
        "      image = draw_line(frame, obj_location, predicted_location, color)\n",
        "    \n",
        "    images.append(image)\n",
        "  return images\n"
      ],
      "execution_count": null,
      "outputs": []
    },
    {
      "cell_type": "code",
      "metadata": {
        "id": "1Cf6cyl8cyD7",
        "outputId": "3ecca411-a4b6-4d19-c89c-4b3044acdfaa",
        "colab": {
          "base_uri": "https://localhost:8080/",
          "height": 414
        }
      },
      "source": [
        "simulator = make_simulator(train_tasks[:50])\n",
        "features, pixels = get_dataset(simulator)\n",
        "idx = random.randint(0, len(features) - 1) # get random simulation\n",
        "objects, sender_relations, receiver_relations, relation_info, target = get_batch(features[idx], 1)\n",
        "# print(\"objects\", objects.shape)\n",
        "# print(objects[0,:,:2])\n",
        "# print(target)\n",
        "predicted = interaction_network(objects, sender_relations, receiver_relations, relation_info)\n",
        "# print(predicted.shape)\n",
        "\n",
        "loss = criterion(predicted, target)\n",
        "print(loss)\n",
        "# for i in range(len(predicted)):\n",
        "#   print(\"{} {} {}\".format(objects[0,:,:2][i], target[i], predicted[i]))\n",
        "\n",
        "# # print(\"target\", target)\n",
        "\n",
        "rgb_images = convert_to_rgb(features[idx])\n",
        "predicted_images = draw_lines(rgb_images, objects, predicted)\n",
        "ImageSequenceClip(predicted_images, fps=20).ipython_display(maxduration=90)"
      ],
      "execution_count": null,
      "outputs": [
        {
          "output_type": "stream",
          "text": [
            "[2]\n",
            "tensor(0.0008, grad_fn=<MseLossBackward>)\n",
            "20\n",
            "Moviepy - Building video __temp__.mp4.\n",
            "Moviepy - Writing video __temp__.mp4\n",
            "\n"
          ],
          "name": "stdout"
        },
        {
          "output_type": "stream",
          "text": [
            ""
          ],
          "name": "stderr"
        },
        {
          "output_type": "stream",
          "text": [
            "Moviepy - Done !\n",
            "Moviepy - video ready __temp__.mp4\n"
          ],
          "name": "stdout"
        },
        {
          "output_type": "execute_result",
          "data": {
            "text/html": [
              "<div align=middle><video src='data:video/mp4;base64,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' controls>Sorry, seems like your browser doesn't support HTML5 audio/video</video></div>"
            ],
            "text/plain": [
              "<moviepy.video.io.html_tools.HTML2 object>"
            ]
          },
          "metadata": {
            "tags": []
          },
          "execution_count": 92
        }
      ]
    },
    {
      "cell_type": "markdown",
      "metadata": {
        "id": "U8nA2k-sI_Nd"
      },
      "source": [
        "# Testing"
      ]
    },
    {
      "cell_type": "code",
      "metadata": {
        "id": "nGAWYyBAJEP6",
        "outputId": "77940f53-6bd2-4661-e143-1816272f3a62",
        "colab": {
          "base_uri": "https://localhost:8080/",
          "height": 696
        }
      },
      "source": [
        "losses = []\n",
        "\n",
        "for i in range(1, 101): #epochs\n",
        "    # grab 4 tasks at a time\n",
        "    x = (i-1)*5\n",
        "    y = i*5\n",
        "\n",
        "    # make a simulator\n",
        "    simulator = make_simulator(test_tasks[x:y])\n",
        "    features, pixels = get_dataset(simulator)\n",
        "\n",
        "    val_loss = 0\n",
        "    for j in range(len(features)): #this should be actions\n",
        "      objects, sender_relations, receiver_relations, relation_info, target = get_batch(features[j], 30)\n",
        "      # print(\"#objects shape\", objects.shape)\n",
        "      # print(\"#sender_relations shape\", sender_relations.shape)\n",
        "      # print(\"#receiver_relations shape\", receiver_relations.shape)\n",
        "      # print(\"#relation_info shape\", relation_info.shape)\n",
        "      # print(\"#target shape\", target.shape)\n",
        "      predicted = interaction_network(objects, sender_relations, receiver_relations, relation_info)\n",
        "      # print(predicted[0])\n",
        "      # print(predicted.shape)\n",
        "      loss = criterion(predicted, target)\n",
        "      # optimizer.zero_grad()\n",
        "      # loss.backward()\n",
        "      # optimizer.step()\n",
        "      losses.append(np.sqrt(loss.item()))\n",
        "\n",
        "    clear_output(True)\n",
        "    plt.figure(figsize=(20,5))\n",
        "    plt.subplot(131)\n",
        "    plt.title('Epoch %s RMS Error %s' % (i, np.sqrt(np.mean(losses[-10:]))))\n",
        "    plt.plot(losses)\n",
        "    plt.show()"
      ],
      "execution_count": null,
      "outputs": [
        {
          "output_type": "display_data",
          "data": {
            "image/png": "[encoded data removed]",
            "text/plain": [
              "<Figure size 1440x360 with 1 Axes>"
            ]
          },
          "metadata": {
            "tags": [],
            "needs_background": "light"
          }
        },
        {
          "output_type": "error",
          "ename": "KeyboardInterrupt",
          "evalue": "ignored",
          "traceback": [
            "\u001b[0;31m---------------------------------------------------------------------------\u001b[0m",
            "\u001b[0;31mKeyboardInterrupt\u001b[0m                         Traceback (most recent call last)",
            "\u001b[0;32m<ipython-input-86-b4d8e93f6ff1>\u001b[0m in \u001b[0;36m<module>\u001b[0;34m()\u001b[0m\n\u001b[1;32m      7\u001b[0m \u001b[0;34m\u001b[0m\u001b[0m\n\u001b[1;32m      8\u001b[0m     \u001b[0;31m# make a simulator\u001b[0m\u001b[0;34m\u001b[0m\u001b[0;34m\u001b[0m\u001b[0;34m\u001b[0m\u001b[0m\n\u001b[0;32m----> 9\u001b[0;31m     \u001b[0msimulator\u001b[0m \u001b[0;34m=\u001b[0m \u001b[0mmake_simulator\u001b[0m\u001b[0;34m(\u001b[0m\u001b[0mtest_tasks\u001b[0m\u001b[0;34m[\u001b[0m\u001b[0mx\u001b[0m\u001b[0;34m:\u001b[0m\u001b[0my\u001b[0m\u001b[0;34m]\u001b[0m\u001b[0;34m)\u001b[0m\u001b[0;34m\u001b[0m\u001b[0;34m\u001b[0m\u001b[0m\n\u001b[0m\u001b[1;32m     10\u001b[0m     \u001b[0mfeatures\u001b[0m\u001b[0;34m,\u001b[0m \u001b[0mpixels\u001b[0m \u001b[0;34m=\u001b[0m \u001b[0mget_dataset\u001b[0m\u001b[0;34m(\u001b[0m\u001b[0msimulator\u001b[0m\u001b[0;34m)\u001b[0m\u001b[0;34m\u001b[0m\u001b[0;34m\u001b[0m\u001b[0m\n\u001b[1;32m     11\u001b[0m \u001b[0;34m\u001b[0m\u001b[0m\n",
            "\u001b[0;32m<ipython-input-67-ca7ea2da9a1c>\u001b[0m in \u001b[0;36mmake_simulator\u001b[0;34m(tasks, action_tier)\u001b[0m\n\u001b[1;32m     17\u001b[0m     \u001b[0;31m# task_dict = {task.taskId: task for task in module.build_task(template_id)}\u001b[0m\u001b[0;34m\u001b[0m\u001b[0;34m\u001b[0m\u001b[0;34m\u001b[0m\u001b[0m\n\u001b[1;32m     18\u001b[0m     \u001b[0;31m# simulator = phyre.action_simulator.ActionSimulator(task_dict, action_tier)\u001b[0m\u001b[0;34m\u001b[0m\u001b[0;34m\u001b[0m\u001b[0;34m\u001b[0m\u001b[0m\n\u001b[0;32m---> 19\u001b[0;31m     \u001b[0msimulator\u001b[0m \u001b[0;34m=\u001b[0m \u001b[0mphyre\u001b[0m\u001b[0;34m.\u001b[0m\u001b[0minitialize_simulator\u001b[0m\u001b[0;34m(\u001b[0m\u001b[0mtasks\u001b[0m\u001b[0;34m,\u001b[0m \u001b[0maction_tier\u001b[0m\u001b[0;34m)\u001b[0m\u001b[0;34m\u001b[0m\u001b[0;34m\u001b[0m\u001b[0m\n\u001b[0m\u001b[1;32m     20\u001b[0m     \u001b[0;32mreturn\u001b[0m \u001b[0msimulator\u001b[0m\u001b[0;34m\u001b[0m\u001b[0;34m\u001b[0m\u001b[0m\n\u001b[1;32m     21\u001b[0m \u001b[0;34m\u001b[0m\u001b[0m\n",
            "\u001b[0;32m/usr/local/lib/python3.6/dist-packages/phyre/action_simulator.py\u001b[0m in \u001b[0;36minitialize_simulator\u001b[0;34m(task_ids, action_tier)\u001b[0m\n\u001b[1;32m    364\u001b[0m                          action_tier: str) -> ActionSimulator:\n\u001b[1;32m    365\u001b[0m     \u001b[0;34m\"\"\"Initialize ActionSimulator for given tasks and tier.\"\"\"\u001b[0m\u001b[0;34m\u001b[0m\u001b[0;34m\u001b[0m\u001b[0m\n\u001b[0;32m--> 366\u001b[0;31m     \u001b[0mtasks\u001b[0m \u001b[0;34m=\u001b[0m \u001b[0mphyre\u001b[0m\u001b[0;34m.\u001b[0m\u001b[0mloader\u001b[0m\u001b[0;34m.\u001b[0m\u001b[0mload_compiled_task_list\u001b[0m\u001b[0;34m(\u001b[0m\u001b[0mtask_ids\u001b[0m\u001b[0;34m)\u001b[0m\u001b[0;34m\u001b[0m\u001b[0;34m\u001b[0m\u001b[0m\n\u001b[0m\u001b[1;32m    367\u001b[0m     \u001b[0;32mreturn\u001b[0m \u001b[0mActionSimulator\u001b[0m\u001b[0;34m(\u001b[0m\u001b[0mtasks\u001b[0m\u001b[0;34m,\u001b[0m \u001b[0maction_tier\u001b[0m\u001b[0;34m)\u001b[0m\u001b[0;34m\u001b[0m\u001b[0;34m\u001b[0m\u001b[0m\n",
            "\u001b[0;32m/usr/local/lib/python3.6/dist-packages/phyre/loader.py\u001b[0m in \u001b[0;36mload_compiled_task_list\u001b[0;34m(task_ids)\u001b[0m\n\u001b[1;32m    169\u001b[0m \u001b[0;32mdef\u001b[0m \u001b[0mload_compiled_task_list\u001b[0m\u001b[0;34m(\u001b[0m\u001b[0mtask_ids\u001b[0m\u001b[0;34m:\u001b[0m \u001b[0mSequence\u001b[0m\u001b[0;34m[\u001b[0m\u001b[0mstr\u001b[0m\u001b[0;34m]\u001b[0m\u001b[0;34m)\u001b[0m \u001b[0;34m->\u001b[0m \u001b[0mSequence\u001b[0m\u001b[0;34m[\u001b[0m\u001b[0mtask_if\u001b[0m\u001b[0;34m.\u001b[0m\u001b[0mTask\u001b[0m\u001b[0;34m]\u001b[0m\u001b[0;34m:\u001b[0m\u001b[0;34m\u001b[0m\u001b[0;34m\u001b[0m\u001b[0m\n\u001b[1;32m    170\u001b[0m     \u001b[0;34m\"\"\"Helper function to load a list of tasks from the default task dump.\"\"\"\u001b[0m\u001b[0;34m\u001b[0m\u001b[0;34m\u001b[0m\u001b[0m\n\u001b[0;32m--> 171\u001b[0;31m     \u001b[0mtask_dict\u001b[0m \u001b[0;34m=\u001b[0m \u001b[0mload_compiled_task_dict\u001b[0m\u001b[0;34m(\u001b[0m\u001b[0;34m)\u001b[0m\u001b[0;34m\u001b[0m\u001b[0;34m\u001b[0m\u001b[0m\n\u001b[0m\u001b[1;32m    172\u001b[0m     \u001b[0mmissing\u001b[0m \u001b[0;34m=\u001b[0m \u001b[0mfrozenset\u001b[0m\u001b[0;34m(\u001b[0m\u001b[0mtask_ids\u001b[0m\u001b[0;34m)\u001b[0m\u001b[0;34m.\u001b[0m\u001b[0mdifference\u001b[0m\u001b[0;34m(\u001b[0m\u001b[0mtask_dict\u001b[0m\u001b[0;34m)\u001b[0m\u001b[0;34m\u001b[0m\u001b[0;34m\u001b[0m\u001b[0m\n\u001b[1;32m    173\u001b[0m     \u001b[0;32mif\u001b[0m \u001b[0mmissing\u001b[0m\u001b[0;34m:\u001b[0m\u001b[0;34m\u001b[0m\u001b[0;34m\u001b[0m\u001b[0m\n",
            "\u001b[0;32m/usr/local/lib/python3.6/dist-packages/phyre/loader.py\u001b[0m in \u001b[0;36mload_compiled_task_dict\u001b[0;34m()\u001b[0m\n\u001b[1;32m    151\u001b[0m     \u001b[0;32mwith\u001b[0m \u001b[0mlzma\u001b[0m\u001b[0;34m.\u001b[0m\u001b[0mopen\u001b[0m\u001b[0;34m(\u001b[0m\u001b[0mpath\u001b[0m\u001b[0;34m)\u001b[0m \u001b[0;32mas\u001b[0m \u001b[0mstream\u001b[0m\u001b[0;34m:\u001b[0m\u001b[0;34m\u001b[0m\u001b[0;34m\u001b[0m\u001b[0m\n\u001b[1;32m    152\u001b[0m         collection = phyre.simulator.deserialize(task_if.TaskCollection(),\n\u001b[0;32m--> 153\u001b[0;31m                                                  stream.read())\n\u001b[0m\u001b[1;32m    154\u001b[0m     \u001b[0;32mreturn\u001b[0m \u001b[0;34m{\u001b[0m\u001b[0mtask\u001b[0m\u001b[0;34m.\u001b[0m\u001b[0mtaskId\u001b[0m\u001b[0;34m:\u001b[0m \u001b[0mtask\u001b[0m \u001b[0;32mfor\u001b[0m \u001b[0mtask\u001b[0m \u001b[0;32min\u001b[0m \u001b[0mcollection\u001b[0m\u001b[0;34m.\u001b[0m\u001b[0mtasks\u001b[0m\u001b[0;34m}\u001b[0m\u001b[0;34m\u001b[0m\u001b[0;34m\u001b[0m\u001b[0m\n\u001b[1;32m    155\u001b[0m \u001b[0;34m\u001b[0m\u001b[0m\n",
            "\u001b[0;32m/usr/local/lib/python3.6/dist-packages/phyre/simulator.py\u001b[0m in \u001b[0;36mdeserialize\u001b[0;34m(obj, pickle)\u001b[0m\n\u001b[1;32m     37\u001b[0m \u001b[0;34m\u001b[0m\u001b[0m\n\u001b[1;32m     38\u001b[0m \u001b[0;32mdef\u001b[0m \u001b[0mdeserialize\u001b[0m\u001b[0;34m(\u001b[0m\u001b[0mobj\u001b[0m\u001b[0;34m,\u001b[0m \u001b[0mpickle\u001b[0m\u001b[0;34m)\u001b[0m\u001b[0;34m:\u001b[0m\u001b[0;34m\u001b[0m\u001b[0;34m\u001b[0m\u001b[0m\n\u001b[0;32m---> 39\u001b[0;31m     \u001b[0;32mreturn\u001b[0m \u001b[0mTSerialization\u001b[0m\u001b[0;34m.\u001b[0m\u001b[0mdeserialize\u001b[0m\u001b[0;34m(\u001b[0m\u001b[0mobj\u001b[0m\u001b[0;34m,\u001b[0m \u001b[0mpickle\u001b[0m\u001b[0;34m,\u001b[0m \u001b[0mprotocol_factory\u001b[0m\u001b[0;34m=\u001b[0m\u001b[0mFACTORY\u001b[0m\u001b[0;34m)\u001b[0m\u001b[0;34m\u001b[0m\u001b[0;34m\u001b[0m\u001b[0m\n\u001b[0m\u001b[1;32m     40\u001b[0m \u001b[0;34m\u001b[0m\u001b[0m\n\u001b[1;32m     41\u001b[0m \u001b[0;34m\u001b[0m\u001b[0m\n",
            "\u001b[0;32m/usr/local/lib/python3.6/dist-packages/thrift/TSerialization.py\u001b[0m in \u001b[0;36mdeserialize\u001b[0;34m(base, buf, protocol_factory)\u001b[0m\n\u001b[1;32m     35\u001b[0m     \u001b[0mtransport\u001b[0m \u001b[0;34m=\u001b[0m \u001b[0mTTransport\u001b[0m\u001b[0;34m.\u001b[0m\u001b[0mTMemoryBuffer\u001b[0m\u001b[0;34m(\u001b[0m\u001b[0mbuf\u001b[0m\u001b[0;34m)\u001b[0m\u001b[0;34m\u001b[0m\u001b[0;34m\u001b[0m\u001b[0m\n\u001b[1;32m     36\u001b[0m     \u001b[0mprotocol\u001b[0m \u001b[0;34m=\u001b[0m \u001b[0mprotocol_factory\u001b[0m\u001b[0;34m.\u001b[0m\u001b[0mgetProtocol\u001b[0m\u001b[0;34m(\u001b[0m\u001b[0mtransport\u001b[0m\u001b[0;34m)\u001b[0m\u001b[0;34m\u001b[0m\u001b[0;34m\u001b[0m\u001b[0m\n\u001b[0;32m---> 37\u001b[0;31m     \u001b[0mbase\u001b[0m\u001b[0;34m.\u001b[0m\u001b[0mread\u001b[0m\u001b[0;34m(\u001b[0m\u001b[0mprotocol\u001b[0m\u001b[0;34m)\u001b[0m\u001b[0;34m\u001b[0m\u001b[0;34m\u001b[0m\u001b[0m\n\u001b[0m\u001b[1;32m     38\u001b[0m     \u001b[0;32mreturn\u001b[0m \u001b[0mbase\u001b[0m\u001b[0;34m\u001b[0m\u001b[0;34m\u001b[0m\u001b[0m\n",
            "\u001b[0;32m/usr/local/lib/python3.6/dist-packages/phyre/interface/task/ttypes.py\u001b[0m in \u001b[0;36mread\u001b[0;34m(self, iprot)\u001b[0m\n\u001b[1;32m    241\u001b[0m     \u001b[0;32mdef\u001b[0m \u001b[0mread\u001b[0m\u001b[0;34m(\u001b[0m\u001b[0mself\u001b[0m\u001b[0;34m,\u001b[0m \u001b[0miprot\u001b[0m\u001b[0;34m)\u001b[0m\u001b[0;34m:\u001b[0m\u001b[0;34m\u001b[0m\u001b[0;34m\u001b[0m\u001b[0m\n\u001b[1;32m    242\u001b[0m         \u001b[0;32mif\u001b[0m \u001b[0miprot\u001b[0m\u001b[0;34m.\u001b[0m\u001b[0m_fast_decode\u001b[0m \u001b[0;32mis\u001b[0m \u001b[0;32mnot\u001b[0m \u001b[0;32mNone\u001b[0m \u001b[0;32mand\u001b[0m \u001b[0misinstance\u001b[0m\u001b[0;34m(\u001b[0m\u001b[0miprot\u001b[0m\u001b[0;34m.\u001b[0m\u001b[0mtrans\u001b[0m\u001b[0;34m,\u001b[0m \u001b[0mTTransport\u001b[0m\u001b[0;34m.\u001b[0m\u001b[0mCReadableTransport\u001b[0m\u001b[0;34m)\u001b[0m \u001b[0;32mand\u001b[0m \u001b[0mself\u001b[0m\u001b[0;34m.\u001b[0m\u001b[0mthrift_spec\u001b[0m \u001b[0;32mis\u001b[0m \u001b[0;32mnot\u001b[0m \u001b[0;32mNone\u001b[0m\u001b[0;34m:\u001b[0m\u001b[0;34m\u001b[0m\u001b[0;34m\u001b[0m\u001b[0m\n\u001b[0;32m--> 243\u001b[0;31m             \u001b[0miprot\u001b[0m\u001b[0;34m.\u001b[0m\u001b[0m_fast_decode\u001b[0m\u001b[0;34m(\u001b[0m\u001b[0mself\u001b[0m\u001b[0;34m,\u001b[0m \u001b[0miprot\u001b[0m\u001b[0;34m,\u001b[0m \u001b[0;34m[\u001b[0m\u001b[0mself\u001b[0m\u001b[0;34m.\u001b[0m\u001b[0m__class__\u001b[0m\u001b[0;34m,\u001b[0m \u001b[0mself\u001b[0m\u001b[0;34m.\u001b[0m\u001b[0mthrift_spec\u001b[0m\u001b[0;34m]\u001b[0m\u001b[0;34m)\u001b[0m\u001b[0;34m\u001b[0m\u001b[0;34m\u001b[0m\u001b[0m\n\u001b[0m\u001b[1;32m    244\u001b[0m             \u001b[0;32mreturn\u001b[0m\u001b[0;34m\u001b[0m\u001b[0;34m\u001b[0m\u001b[0m\n\u001b[1;32m    245\u001b[0m         \u001b[0miprot\u001b[0m\u001b[0;34m.\u001b[0m\u001b[0mreadStructBegin\u001b[0m\u001b[0;34m(\u001b[0m\u001b[0;34m)\u001b[0m\u001b[0;34m\u001b[0m\u001b[0;34m\u001b[0m\u001b[0m\n",
            "\u001b[0;32m/usr/local/lib/python3.6/dist-packages/phyre/interface/scene/ttypes.py\u001b[0m in \u001b[0;36m__init__\u001b[0;34m(self, x, y)\u001b[0m\n\u001b[1;32m     84\u001b[0m \u001b[0;34m\u001b[0m\u001b[0m\n\u001b[1;32m     85\u001b[0m \u001b[0;34m\u001b[0m\u001b[0m\n\u001b[0;32m---> 86\u001b[0;31m     \u001b[0;32mdef\u001b[0m \u001b[0m__init__\u001b[0m\u001b[0;34m(\u001b[0m\u001b[0mself\u001b[0m\u001b[0;34m,\u001b[0m \u001b[0mx\u001b[0m\u001b[0;34m=\u001b[0m\u001b[0;32mNone\u001b[0m\u001b[0;34m,\u001b[0m \u001b[0my\u001b[0m\u001b[0;34m=\u001b[0m\u001b[0;32mNone\u001b[0m\u001b[0;34m,\u001b[0m\u001b[0;34m)\u001b[0m\u001b[0;34m:\u001b[0m\u001b[0;34m\u001b[0m\u001b[0;34m\u001b[0m\u001b[0m\n\u001b[0m\u001b[1;32m     87\u001b[0m         \u001b[0mself\u001b[0m\u001b[0;34m.\u001b[0m\u001b[0mx\u001b[0m \u001b[0;34m=\u001b[0m \u001b[0mx\u001b[0m\u001b[0;34m\u001b[0m\u001b[0;34m\u001b[0m\u001b[0m\n\u001b[1;32m     88\u001b[0m         \u001b[0mself\u001b[0m\u001b[0;34m.\u001b[0m\u001b[0my\u001b[0m \u001b[0;34m=\u001b[0m \u001b[0my\u001b[0m\u001b[0;34m\u001b[0m\u001b[0;34m\u001b[0m\u001b[0m\n",
            "\u001b[0;31mKeyboardInterrupt\u001b[0m: "
          ]
        }
      ]
    },
    {
      "cell_type": "markdown",
      "metadata": {
        "id": "AundOwdZ2xpW"
      },
      "source": [
        "# Next Steps\n",
        "\n",
        "Don't treat it as a black box -- figure out internals of the interaction model\n",
        "\n",
        "GOOD NEWS - model is object number agnostic. We care about object dimension not number of objects\n",
        "\n",
        "Autoregressive models are bad\n",
        "\n",
        "THEORY - model predicts velocity, not state -- I was wrong about that\n",
        "\n",
        "GOOD NEWS - It doesn't predict final state, I was just drawing the lines wrong... Fix that then talk to Alan.\n",
        "\n",
        "BAD NEWS - for majority of replay, objects are at rest. Have to talk to Sam about Jumpy NN. Predictions are most important during large amounts of motion. Most predictions are extremely accurate because there's so little movement most of the time"
      ]
    }
  ]
}